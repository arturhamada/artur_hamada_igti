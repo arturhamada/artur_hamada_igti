{
 "cells": [
  {
   "cell_type": "code",
   "execution_count": null,
   "metadata": {},
   "outputs": [],
   "source": [
    "api_key = '3J4149BRQRmHAYrFAyD7sQbUk'\n",
    "api_secret_key = 'skg02B7NiU1lx9FW8bG56tStnb0zDbOmZly11xqCAhWbpRH2z6'\n",
    "bearer_token = 'AAAAAAAAAAAAAAAAAAAAAH0vKAEAAAAAEme8JFhPG6l0SJr6U07zBqZOcAw%3DiGfo4VQnQb6vuCGZ0kpsRpfEfzO8cMrS8xJeyRBYMIpoZEo3cp'\n",
    "\n",
    "access_token = '1331206385095290880-7LABXHwUT9s7vkr8DcNBRfNIdwISjx'\n",
    "access_token_secret = 'L61URhFvh0gApz8vu0ozQFuQOjC0D27Hy4rLQgqChaGe8'\n"
   ]
  }
 ],
 "metadata": {
  "kernelspec": {
   "display_name": "Python 3",
   "language": "python",
   "name": "python3"
  },
  "language_info": {
   "codemirror_mode": {
    "name": "ipython",
    "version": 3
   },
   "file_extension": ".py",
   "mimetype": "text/x-python",
   "name": "python",
   "nbconvert_exporter": "python",
   "pygments_lexer": "ipython3",
   "version": "3.7.3"
  }
 },
 "nbformat": 4,
 "nbformat_minor": 4
}
